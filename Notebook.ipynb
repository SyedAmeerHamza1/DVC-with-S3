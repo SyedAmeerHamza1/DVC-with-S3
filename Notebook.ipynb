{
 "cells": [
  {
   "cell_type": "code",
   "execution_count": 7,
   "metadata": {},
   "outputs": [
    {
     "name": "stdout",
     "output_type": "stream",
     "text": [
      "    IQ  CGPA  10th_marks  12th_marks  Communication_Skills  Placed\n",
      "0  108  9.22          31          47                     3       0\n",
      "1  121  0.88          67          75                     9       0\n",
      "2   98  1.96          54          58                    10       1\n",
      "3   84  0.45          74          85                     6       1\n",
      "4  112  3.25          55          21                    10       0\n"
     ]
    }
   ],
   "source": [
    "import pandas as pd\n",
    "import numpy as np\n",
    "\n",
    "# Setting the random seed for reproducibility\n",
    "np.random.seed(42)\n",
    "\n",
    "# Generating random data\n",
    "data = {\n",
    "    'IQ': np.random.randint(70, 131, size=100),\n",
    "    'CGPA': np.round(np.random.uniform(0, 10, size=100), 2),\n",
    "    '10th_marks': np.random.randint(0, 101, size=100),\n",
    "    '12th_marks': np.random.randint(0, 101, size=100),\n",
    "    'Communication_Skills': np.random.randint(1, 11, size=100),\n",
    "    'Placed': np.random.randint(0, 2, size=100)\n",
    "}\n",
    "\n",
    "# Creating the DataFrame\n",
    "df = pd.DataFrame(data)\n",
    "\n",
    "# Displaying the first few rows of the DataFrame\n",
    "print(df.head())\n",
    "\n",
    "df.to_csv(r\"data\\raw\\raw_data.cvs\")\n"
   ]
  },
  {
   "cell_type": "code",
   "execution_count": null,
   "metadata": {},
   "outputs": [],
   "source": []
  }
 ],
 "metadata": {
  "kernelspec": {
   "display_name": "Python 3",
   "language": "python",
   "name": "python3"
  },
  "language_info": {
   "codemirror_mode": {
    "name": "ipython",
    "version": 3
   },
   "file_extension": ".py",
   "mimetype": "text/x-python",
   "name": "python",
   "nbconvert_exporter": "python",
   "pygments_lexer": "ipython3",
   "version": "3.11.3"
  }
 },
 "nbformat": 4,
 "nbformat_minor": 2
}
